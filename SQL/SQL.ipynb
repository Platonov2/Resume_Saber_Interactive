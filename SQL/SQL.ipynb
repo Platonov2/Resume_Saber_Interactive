{
 "cells": [
  {
   "cell_type": "code",
   "execution_count": 1,
   "id": "5413ffea",
   "metadata": {},
   "outputs": [],
   "source": [
    "import sqlite3"
   ]
  },
  {
   "cell_type": "code",
   "execution_count": 2,
   "id": "1e8e07b1",
   "metadata": {},
   "outputs": [],
   "source": [
    "connecion = sqlite3.connect(\"test (1).db\")\n",
    "cursor = connecion.cursor()"
   ]
  },
  {
   "cell_type": "markdown",
   "id": "e691abb5",
   "metadata": {},
   "source": [
    "# Задача SQL 1"
   ]
  },
  {
   "cell_type": "code",
   "execution_count": 3,
   "id": "292cf064",
   "metadata": {},
   "outputs": [
    {
     "data": {
      "text/plain": [
       "[('A', 153.69), ('B', 191.94), ('C', 308.2), ('D', 570.12), ('E', 405.62)]"
      ]
     },
     "execution_count": 3,
     "metadata": {},
     "output_type": "execute_result"
    }
   ],
   "source": [
    "result = cursor.execute(\"SELECT SUBSTR(issue_key, 1, 1) AS groupName, ROUND(AVG(minutes_in_status) / 60, 2) \" +\n",
    "                         \"FROM history \" +\n",
    "                         \"WHERE status = 'Open' \" +\n",
    "                         \"GROUP BY groupName\")\n",
    "\n",
    "data = result.fetchall()\n",
    "data"
   ]
  },
  {
   "cell_type": "markdown",
   "id": "25ef7716",
   "metadata": {},
   "source": [
    "# Задача SQL 2"
   ]
  },
  {
   "cell_type": "code",
   "execution_count": 4,
   "id": "7082a500",
   "metadata": {},
   "outputs": [
    {
     "data": {
      "text/plain": [
       "[('C-40460', 'In Testing', '2022-12-07 08:25:32'),\n",
       " ('A-53444', 'Open', '2022-12-07 09:19:27'),\n",
       " ('C-39466', 'In Progress', '2022-11-16 09:50:38'),\n",
       " ('D-5310', 'Open', '2022-04-18 07:48:07'),\n",
       " ('B-4645', 'Open', '2022-12-08 16:18:44'),\n",
       " ('C-20610', 'Reopened', '2021-11-23 14:44:58'),\n",
       " ('C-21435', 'Open', '2022-04-07 12:15:34'),\n",
       " ('C-1', 'In Progress', '2019-06-04 14:38:59'),\n",
       " ('A-54133', 'Waiting for integration', '2022-12-26 14:47:37'),\n",
       " ('A-53676', 'Waiting for integration', '2022-12-26 18:31:22'),\n",
       " ('A-53602', 'Waiting for integration', '2022-12-26 13:03:29'),\n",
       " ('A-53409', 'Waiting for integration', '2022-12-12 15:08:39'),\n",
       " ('A-52884', 'Blocked', '2022-11-28 15:12:43'),\n",
       " ('A-51466', 'Waiting for integration', '2022-11-14 12:42:43'),\n",
       " ('A-54115', 'Open', '2022-12-20 17:57:23'),\n",
       " ('A-50422', 'In Testing', '2022-11-01 11:56:49'),\n",
       " ('A-50359', 'In Owl', '2022-11-15 06:51:48'),\n",
       " ('A-49829', 'In Review', '2022-10-20 10:13:04'),\n",
       " ('A-47808', 'Reopened', '2022-10-31 08:54:08'),\n",
       " ('A-44107', 'In Owl', '2022-12-26 18:31:23'),\n",
       " ('A-44916', 'Blocked', '2022-09-15 09:17:04'),\n",
       " ('A-42030', 'Open', '2022-09-01 15:04:15'),\n",
       " ('A-32133', 'Open', '2021-04-29 09:55:29'),\n",
       " ('A-31053', 'Open', '2020-10-21 15:08:13'),\n",
       " ('D-6832', 'In Testing', '2022-12-09 10:11:28'),\n",
       " ('D-5518', 'In Progress', '2022-10-27 11:40:53'),\n",
       " ('D-5051', 'Open', '2022-03-14 09:30:51'),\n",
       " ('D-4951', 'In Owl', '2022-12-21 10:17:40'),\n",
       " ('D-8', 'Open', '2019-12-27 11:34:47')]"
      ]
     },
     "execution_count": 4,
     "metadata": {},
     "output_type": "execute_result"
    }
   ],
   "source": [
    "result = cursor.execute(\"SELECT issue_key, status, DATETIME((started_at / 1000), 'unixepoch') as date \" +\n",
    "                        \"FROM history \" +\n",
    "                        \"WHERE date < ? AND ended_at IS NULL \" +\n",
    "                                 \"AND status != 'Closed' AND status != 'Resolved'\",\n",
    "                        (\"2022-12-27 11:34:47\",))\n",
    "\n",
    "data = result.fetchall()\n",
    "data"
   ]
  },
  {
   "cell_type": "code",
   "execution_count": null,
   "id": "9bbe950c",
   "metadata": {},
   "outputs": [],
   "source": []
  },
  {
   "cell_type": "code",
   "execution_count": null,
   "id": "3f5065cb",
   "metadata": {},
   "outputs": [],
   "source": []
  },
  {
   "cell_type": "code",
   "execution_count": null,
   "id": "4d662954",
   "metadata": {},
   "outputs": [],
   "source": []
  }
 ],
 "metadata": {
  "kernelspec": {
   "display_name": "Python 3 (ipykernel)",
   "language": "python",
   "name": "python3"
  },
  "language_info": {
   "codemirror_mode": {
    "name": "ipython",
    "version": 3
   },
   "file_extension": ".py",
   "mimetype": "text/x-python",
   "name": "python",
   "nbconvert_exporter": "python",
   "pygments_lexer": "ipython3",
   "version": "3.9.5"
  }
 },
 "nbformat": 4,
 "nbformat_minor": 5
}
